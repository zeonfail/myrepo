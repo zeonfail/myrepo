{
 "cells": [
  {
   "cell_type": "markdown",
   "metadata": {},
   "source": [
    "# Basic Statistical Analysis\n",
    "\n",
    "What follows is a quick introduction or review to basic statistical analysis, along with how to do them in Python (though there are many variations).\n",
    "\n",
    "Let's make some random data and consider the following\n",
    "* Central Tendency\n",
    "* Distributions and Variation\n",
    "* Joint Variation"
   ]
  },
  {
   "cell_type": "markdown",
   "metadata": {},
   "source": [
    "## Let's make some data"
   ]
  },
  {
   "cell_type": "code",
   "execution_count": 49,
   "metadata": {},
   "outputs": [],
   "source": [
    "import matplotlib.pyplot as plt\n",
    "import numpy as np\n",
    "import pandas as pd\n",
    "\n",
    "# scipy has a number of stats based tools\n",
    "from scipy import stats\n",
    "from scipy.stats import norm\n",
    "\n",
    "# this is python's own statistics library\n",
    "from statistics import *"
   ]
  },
  {
   "cell_type": "code",
   "execution_count": 50,
   "metadata": {},
   "outputs": [],
   "source": [
    "# Let's make some random data... we'll work with the same \"normal\" distribution\n",
    "\n",
    "my_random_data = norm.rvs(0.0, 2.5, size=1000000)\n",
    "\n",
    "# let's make a pandas Series from our data as well for later.\n",
    "\n",
    "my_random_series = pd.Series(my_random_data)"
   ]
  },
  {
   "cell_type": "code",
   "execution_count": 51,
   "metadata": {},
   "outputs": [
    {
     "name": "stdout",
     "output_type": "stream",
     "text": [
      "\n",
      "Length of our data: 1000000\n",
      "\n",
      "Type: <class 'numpy.ndarray'>\n"
     ]
    }
   ],
   "source": [
    "#print(my_random_data)\n",
    "print(\"\\nLength of our data: {}\".format(len(my_random_data)))\n",
    "print(\"\\nType: {}\".format(type(my_random_data)))"
   ]
  },
  {
   "cell_type": "code",
   "execution_count": 52,
   "metadata": {},
   "outputs": [
    {
     "data": {
      "text/plain": [
       "0   -1.867683\n",
       "1    0.435285\n",
       "2   -3.904536\n",
       "3    0.020165\n",
       "4   -0.052820\n",
       "dtype: float64"
      ]
     },
     "execution_count": 52,
     "metadata": {},
     "output_type": "execute_result"
    }
   ],
   "source": [
    "my_random_series.head()"
   ]
  },
  {
   "cell_type": "markdown",
   "metadata": {},
   "source": [
    "## Central Tendency\n",
    "\n",
    "Measures of \"Central Tendency\" are measures of the center point or \"typical value\" of a distribution of values."
   ]
  },
  {
   "cell_type": "markdown",
   "metadata": {},
   "source": [
    "### Mean\n",
    "\n",
    "The Arithmetic mean (or average) of a population $A$ of $n$ variables $a_i$ is defined as: \n",
    "$${A = \\frac{1}{n} \\sum_{i=1}^n{a_i}}$$ "
   ]
  },
  {
   "cell_type": "code",
   "execution_count": 53,
   "metadata": {},
   "outputs": [
    {
     "data": {
      "text/plain": [
       "-0.0031567078625268303"
      ]
     },
     "execution_count": 53,
     "metadata": {},
     "output_type": "execute_result"
    }
   ],
   "source": [
    "# from statistics\n",
    "mean(my_random_data)"
   ]
  },
  {
   "cell_type": "code",
   "execution_count": 54,
   "metadata": {},
   "outputs": [
    {
     "data": {
      "text/plain": [
       "-0.003156707862526831"
      ]
     },
     "execution_count": 54,
     "metadata": {},
     "output_type": "execute_result"
    }
   ],
   "source": [
    "# mean in numpy\n",
    "my_random_data.mean()"
   ]
  },
  {
   "cell_type": "code",
   "execution_count": 55,
   "metadata": {},
   "outputs": [
    {
     "data": {
      "text/plain": [
       "-0.0031567078625267873"
      ]
     },
     "execution_count": 55,
     "metadata": {},
     "output_type": "execute_result"
    }
   ],
   "source": [
    "# from our Pandas series\n",
    "my_random_series.mean()"
   ]
  },
  {
   "cell_type": "code",
   "execution_count": 56,
   "metadata": {},
   "outputs": [],
   "source": [
    "data = np.array([1, 2, 3, 4, 5, 6])"
   ]
  },
  {
   "cell_type": "code",
   "execution_count": 57,
   "metadata": {},
   "outputs": [
    {
     "data": {
      "text/plain": [
       "3.5"
      ]
     },
     "execution_count": 57,
     "metadata": {},
     "output_type": "execute_result"
    }
   ],
   "source": [
    "data.mean()"
   ]
  },
  {
   "cell_type": "code",
   "execution_count": 58,
   "metadata": {},
   "outputs": [
    {
     "name": "stdout",
     "output_type": "stream",
     "text": [
      "1.41 s ± 46.9 ms per loop (mean ± std. dev. of 7 runs, 1 loop each)\n"
     ]
    }
   ],
   "source": [
    "%timeit mean(my_random_data)"
   ]
  },
  {
   "cell_type": "code",
   "execution_count": 59,
   "metadata": {},
   "outputs": [
    {
     "name": "stdout",
     "output_type": "stream",
     "text": [
      "968 µs ± 79.6 µs per loop (mean ± std. dev. of 7 runs, 1000 loops each)\n"
     ]
    }
   ],
   "source": [
    "%timeit my_random_data.mean()"
   ]
  },
  {
   "cell_type": "code",
   "execution_count": 60,
   "metadata": {},
   "outputs": [
    {
     "name": "stdout",
     "output_type": "stream",
     "text": [
      "1.14 ms ± 5.94 µs per loop (mean ± std. dev. of 7 runs, 1000 loops each)\n"
     ]
    }
   ],
   "source": [
    "%timeit my_random_series.mean()"
   ]
  },
  {
   "cell_type": "markdown",
   "metadata": {},
   "source": [
    "### Median\n",
    "\n",
    "Median is the midpoint value of a population. Given a set $N = { 1, 2, 4, 6, 7, 9, 20 }$, the median $M = 6$."
   ]
  },
  {
   "cell_type": "code",
   "execution_count": 61,
   "metadata": {},
   "outputs": [],
   "source": [
    "arr = np.asarray((500000, 2, 4, 6, 7, 9, 1))"
   ]
  },
  {
   "cell_type": "code",
   "execution_count": 62,
   "metadata": {},
   "outputs": [
    {
     "data": {
      "text/plain": [
       "tuple"
      ]
     },
     "execution_count": 62,
     "metadata": {},
     "output_type": "execute_result"
    }
   ],
   "source": [
    "type((500000, 2, 4, 6, 7, 9, 1))"
   ]
  },
  {
   "cell_type": "code",
   "execution_count": 63,
   "metadata": {},
   "outputs": [
    {
     "data": {
      "text/plain": [
       "6"
      ]
     },
     "execution_count": 63,
     "metadata": {},
     "output_type": "execute_result"
    }
   ],
   "source": [
    "# median from native python statistics package:\n",
    "median(arr)"
   ]
  },
  {
   "cell_type": "code",
   "execution_count": 64,
   "metadata": {},
   "outputs": [
    {
     "data": {
      "text/plain": [
       "6.0"
      ]
     },
     "execution_count": 64,
     "metadata": {},
     "output_type": "execute_result"
    }
   ],
   "source": [
    "# in python\n",
    "np.median(arr)"
   ]
  },
  {
   "cell_type": "code",
   "execution_count": 65,
   "metadata": {},
   "outputs": [
    {
     "data": {
      "text/plain": [
       "-0.0064191283719272265"
      ]
     },
     "execution_count": 65,
     "metadata": {},
     "output_type": "execute_result"
    }
   ],
   "source": [
    "# with our data\n",
    "np.median(my_random_data)"
   ]
  },
  {
   "cell_type": "code",
   "execution_count": 66,
   "metadata": {},
   "outputs": [
    {
     "data": {
      "text/plain": [
       "-0.0064191283719272265"
      ]
     },
     "execution_count": 66,
     "metadata": {},
     "output_type": "execute_result"
    }
   ],
   "source": [
    "# median in pandas\n",
    "my_random_series.median()"
   ]
  },
  {
   "cell_type": "markdown",
   "metadata": {},
   "source": [
    "### Mode\n",
    "\n",
    "Mode is the value that occurs the most frequently. Given a set $N = { 1, 2, 2, 6, 6, 9, 9, 9, 18, 18, 20 }$, the mode $M = 9$."
   ]
  },
  {
   "cell_type": "code",
   "execution_count": 67,
   "metadata": {},
   "outputs": [
    {
     "data": {
      "text/plain": [
       "9"
      ]
     },
     "execution_count": 67,
     "metadata": {},
     "output_type": "execute_result"
    }
   ],
   "source": [
    "# mode from the statistics package\n",
    "a = np.asarray((1, 2, 2, 6, 6, 9, 9, 9, 18, 18, 20))\n",
    "mode(a)"
   ]
  },
  {
   "cell_type": "code",
   "execution_count": 68,
   "metadata": {},
   "outputs": [],
   "source": [
    "# our data doesn't have a mode since we have made all values equally likely so we won't test these, but the functions are available."
   ]
  },
  {
   "cell_type": "markdown",
   "metadata": {},
   "source": [
    "## Variation"
   ]
  },
  {
   "cell_type": "markdown",
   "metadata": {},
   "source": [
    "### Distributions\n",
    "\n",
    "Definition: A __distribution__ is a function that describes the probability of different outcomes of an experiment.  The graph below describes frequency of various values occurring, given in values from the most central values (mean).\n",
    "\n",
    "<div style=\"text-align:center\"><img src=\"images/normaldist.png\"></div>\n",
    "\n",
    "In this chart, the mean value is 0. In the case of the normal distribution as here, 0 is also the most frequent value. You can see the probabilities of occurance drop as you get farther from the mean.\n"
   ]
  },
  {
   "cell_type": "code",
   "execution_count": 71,
   "metadata": {},
   "outputs": [
    {
     "data": {
      "image/png": "[encoded data removed]",
      "text/plain": [
       "<Figure size 720x360 with 1 Axes>"
      ]
     },
     "metadata": {
      "needs_background": "light"
     },
     "output_type": "display_data"
    }
   ],
   "source": [
    "# Let's fit a normal distribution to our data\n",
    "mu, std = norm.fit(my_random_data)\n",
    "\n",
    "fig, ax = plt.subplots(1, 1, figsize=(10, 5))\n",
    "\n",
    "# plot our data\n",
    "ax.hist(my_random_data, bins=50, density=True, alpha=0.6, color='blue')\n",
    "\n",
    "# plot the PDF\n",
    "xmin, xmax = plt.xlim()\n",
    "x = np.linspace(xmin, xmax, 100)\n",
    "p = norm.pdf(x, mu, std)\n",
    "ax.plot(x, p, 'k', linewidth=2)\n",
    "\n",
    "plt.title(\"Normal Distribution - Fit Results: mu = {:.2f},  std = {:.2f}\".format(mu, std))\n",
    "plt.show()"
   ]
  },
  {
   "cell_type": "code",
   "execution_count": 72,
   "metadata": {},
   "outputs": [
    {
     "data": {
      "text/plain": [
       "<matplotlib.axes._subplots.AxesSubplot at 0x230ccfa6d88>"
      ]
     },
     "execution_count": 72,
     "metadata": {},
     "output_type": "execute_result"
    },
    {
     "data": {
      "image/png": "[encoded data removed]",
      "text/plain": [
       "<Figure size 720x360 with 1 Axes>"
      ]
     },
     "metadata": {
      "needs_background": "light"
     },
     "output_type": "display_data"
    }
   ],
   "source": [
    "# you can also do this in Pandas\n",
    "my_random_series.hist(bins=25, density=True, figsize=(10, 5))"
   ]
  },
  {
   "cell_type": "markdown",
   "metadata": {},
   "source": [
    "### Variance\n",
    "\n",
    "Variance, denoted by $Var(X)$ or $\\sigma^2$ is a measure of how far away the values in a population are from the mean:\n",
    "\n",
    "$${Var(X) = \\frac{1}{n} \\sum_{i=1}^n{(x_i-\\mu)^2}}$$ "
   ]
  },
  {
   "cell_type": "code",
   "execution_count": 73,
   "metadata": {},
   "outputs": [
    {
     "data": {
      "text/plain": [
       "6.261336993984883"
      ]
     },
     "execution_count": 73,
     "metadata": {},
     "output_type": "execute_result"
    }
   ],
   "source": [
    "# statistics\n",
    "variance(my_random_data)"
   ]
  },
  {
   "cell_type": "code",
   "execution_count": 74,
   "metadata": {},
   "outputs": [
    {
     "data": {
      "text/plain": [
       "6.26133699398487"
      ]
     },
     "execution_count": 74,
     "metadata": {},
     "output_type": "execute_result"
    }
   ],
   "source": [
    "# pandas\n",
    "my_random_series.var()"
   ]
  },
  {
   "cell_type": "code",
   "execution_count": 75,
   "metadata": {},
   "outputs": [
    {
     "data": {
      "text/plain": [
       "6.261330732647889"
      ]
     },
     "execution_count": 75,
     "metadata": {},
     "output_type": "execute_result"
    }
   ],
   "source": [
    "# numpy\n",
    "my_random_data.var()"
   ]
  },
  {
   "cell_type": "markdown",
   "metadata": {},
   "source": [
    "Wait. What? numpy is different!  Why?? Without going too deep into the statistics, there is a concept of \"degrees of freedom\". Degrees of freedom (ddof) = 1 is used to provide an unbiased estimator of the theoretical population. ddof = 0 is the estimator for the variance of the random variables. \n",
    "\n",
    "Numpy uses ddof = 0 by default. You can tell it to use ddof = 1 instead. This defines the **sample** variance as:\n",
    "\n",
    "$${Var(X) = \\frac{1}{n-1} \\sum_{i=1}^n{(x_i-\\bar{x})^2}}$$ \n",
    "\n",
    "Note the difference in the \"mean\"; the population variance $\\sigma$ uses the \"true\" mean $\\mu$.  The sample variance uses the sample average $\\bar{x}$."
   ]
  },
  {
   "cell_type": "code",
   "execution_count": 76,
   "metadata": {},
   "outputs": [
    {
     "data": {
      "text/plain": [
       "6.261336993984883"
      ]
     },
     "execution_count": 76,
     "metadata": {},
     "output_type": "execute_result"
    }
   ],
   "source": [
    "my_random_data.var(ddof=1)"
   ]
  },
  {
   "cell_type": "markdown",
   "metadata": {},
   "source": [
    "### Standard Deviation\n",
    "\n",
    "The **population** standard deviation, denoted by $\\sigma$ is the square root of the variance:\n",
    "\n",
    "$$\\sigma = \\sqrt{{\\frac{1}{n} \\sum_{i=1}^n{(x_i-\\mu)^2}}}$$ \n",
    "\n",
    "If we use ddof=1 then we get the **sample** standard deviation $s$:\n",
    "\n",
    "$$s = \\sqrt{{\\frac{1}{n-1} \\sum_{i=1}^n{(x_i-\\bar{x})^2}}}$$ "
   ]
  },
  {
   "cell_type": "code",
   "execution_count": 77,
   "metadata": {},
   "outputs": [
    {
     "data": {
      "text/plain": [
       "2.502266371509013"
      ]
     },
     "execution_count": 77,
     "metadata": {},
     "output_type": "execute_result"
    }
   ],
   "source": [
    "# standard deviation\n",
    "stdev(my_random_data)"
   ]
  },
  {
   "cell_type": "code",
   "execution_count": 78,
   "metadata": {},
   "outputs": [
    {
     "data": {
      "text/plain": [
       "2.502266371509013"
      ]
     },
     "execution_count": 78,
     "metadata": {},
     "output_type": "execute_result"
    }
   ],
   "source": [
    "# numpy\n",
    "my_random_data.std(ddof=1)"
   ]
  },
  {
   "cell_type": "code",
   "execution_count": 79,
   "metadata": {},
   "outputs": [
    {
     "data": {
      "text/plain": [
       "2.5022663715090108"
      ]
     },
     "execution_count": 79,
     "metadata": {},
     "output_type": "execute_result"
    }
   ],
   "source": [
    "# pandas\n",
    "my_random_series.std()"
   ]
  },
  {
   "cell_type": "markdown",
   "metadata": {},
   "source": [
    "### The Intuition of Standard Deviation and Variance\n",
    "\n",
    "So what does it mean that a population of data has a larger standard deviation than another? \n",
    "\n",
    "Let's create two data sets with the same mean but different standard deviations."
   ]
  },
  {
   "cell_type": "code",
   "execution_count": 89,
   "metadata": {},
   "outputs": [
    {
     "data": {
      "image/png": "[encoded data removed]",
      "text/plain": [
       "<Figure size 1152x432 with 2 Axes>"
      ]
     },
     "metadata": {
      "needs_background": "light"
     },
     "output_type": "display_data"
    }
   ],
   "source": [
    "small_std = pd.Series(norm.rvs(2.0, 2.5, size=10000))\n",
    "large_std = pd.Series(norm.rvs(10.0, 12.0, size=10000))\n",
    "\n",
    "fig, (ax1, ax2) = plt.subplots(1,2, figsize=(16,6))\n",
    "       \n",
    "small_std.plot(kind=\"hist\", ax=ax1, bins=25, title=\"$\\sigma$ = 2.5\", xlim=(-40,40), alpha=0.2)\n",
    "large_std.plot(kind=\"hist\", ax=ax2, bins=25, title=\"$data = pd.series(my_data)\\sigma$ = 6\", xlim=(-40,40), alpha=0.7)\n",
    "\n",
    "fig.suptitle(\"Comparing two distributions with the same mean and different $\\sigma$\", fontsize=\"20\")\n",
    "plt.show()"
   ]
  },
  {
   "cell_type": "markdown",
   "metadata": {},
   "source": [
    "## Joint Variability\n",
    "\n",
    "Very often we want to be able to see how values change together, jointly. We'll call these measures of __joint variability__."
   ]
  },
  {
   "cell_type": "markdown",
   "metadata": {},
   "source": [
    "### Covariance and Correlation\n",
    "\n",
    "__Covariance__ indicates the __direction__ of the linear relationship between variables. \n",
    "\n",
    "__Correlation__ on the other hand measures both the __strength__ and __direction__ of the linear relationship between two variables."
   ]
  },
  {
   "cell_type": "code",
   "execution_count": 81,
   "metadata": {},
   "outputs": [],
   "source": [
    "# statsmodels\n",
    "import statsmodels.api as sm\n",
    "\n",
    "# let's get our copper data from last week\n",
    "copper = sm.datasets.copper.load_pandas().data\n",
    "years = np.arange(1951, 1976)\n",
    "copper.index = years"
   ]
  },
  {
   "cell_type": "code",
   "execution_count": 82,
   "metadata": {},
   "outputs": [
    {
     "data": {
      "text/html": [
       "<div>\n",
       "<style scoped>\n",
       "    .dataframe tbody tr th:only-of-type {\n",
       "        vertical-align: middle;\n",
       "    }\n",
       "\n",
       "    .dataframe tbody tr th {\n",
       "        vertical-align: top;\n",
       "    }\n",
       "\n",
       "    .dataframe thead th {\n",
       "        text-align: right;\n",
       "    }\n",
       "</style>\n",
       "<table border=\"1\" class=\"dataframe\">\n",
       "  <thead>\n",
       "    <tr style=\"text-align: right;\">\n",
       "      <th></th>\n",
       "      <th>WORLDCONSUMPTION</th>\n",
       "      <th>COPPERPRICE</th>\n",
       "      <th>INCOMEINDEX</th>\n",
       "      <th>ALUMPRICE</th>\n",
       "      <th>INVENTORYINDEX</th>\n",
       "      <th>TIME</th>\n",
       "    </tr>\n",
       "  </thead>\n",
       "  <tbody>\n",
       "    <tr>\n",
       "      <th>1951</th>\n",
       "      <td>3173.0</td>\n",
       "      <td>26.56</td>\n",
       "      <td>0.70</td>\n",
       "      <td>19.76</td>\n",
       "      <td>0.98</td>\n",
       "      <td>1.0</td>\n",
       "    </tr>\n",
       "    <tr>\n",
       "      <th>1952</th>\n",
       "      <td>3281.1</td>\n",
       "      <td>27.31</td>\n",
       "      <td>0.71</td>\n",
       "      <td>20.78</td>\n",
       "      <td>1.04</td>\n",
       "      <td>2.0</td>\n",
       "    </tr>\n",
       "    <tr>\n",
       "      <th>1953</th>\n",
       "      <td>3135.7</td>\n",
       "      <td>32.95</td>\n",
       "      <td>0.72</td>\n",
       "      <td>22.55</td>\n",
       "      <td>1.05</td>\n",
       "      <td>3.0</td>\n",
       "    </tr>\n",
       "    <tr>\n",
       "      <th>1954</th>\n",
       "      <td>3359.1</td>\n",
       "      <td>33.90</td>\n",
       "      <td>0.70</td>\n",
       "      <td>23.06</td>\n",
       "      <td>0.97</td>\n",
       "      <td>4.0</td>\n",
       "    </tr>\n",
       "    <tr>\n",
       "      <th>1955</th>\n",
       "      <td>3755.1</td>\n",
       "      <td>42.70</td>\n",
       "      <td>0.74</td>\n",
       "      <td>24.93</td>\n",
       "      <td>1.02</td>\n",
       "      <td>5.0</td>\n",
       "    </tr>\n",
       "  </tbody>\n",
       "</table>\n",
       "</div>"
      ],
      "text/plain": [
       "      WORLDCONSUMPTION  COPPERPRICE  INCOMEINDEX  ALUMPRICE  INVENTORYINDEX  \\\n",
       "1951            3173.0        26.56         0.70      19.76            0.98   \n",
       "1952            3281.1        27.31         0.71      20.78            1.04   \n",
       "1953            3135.7        32.95         0.72      22.55            1.05   \n",
       "1954            3359.1        33.90         0.70      23.06            0.97   \n",
       "1955            3755.1        42.70         0.74      24.93            1.02   \n",
       "\n",
       "      TIME  \n",
       "1951   1.0  \n",
       "1952   2.0  \n",
       "1953   3.0  \n",
       "1954   4.0  \n",
       "1955   5.0  "
      ]
     },
     "execution_count": 82,
     "metadata": {},
     "output_type": "execute_result"
    }
   ],
   "source": [
    "copper.head()"
   ]
  },
  {
   "cell_type": "code",
   "execution_count": 83,
   "metadata": {},
   "outputs": [
    {
     "data": {
      "image/png": "[encoded data removed]",
      "text/plain": [
       "<Figure size 432x288 with 4 Axes>"
      ]
     },
     "metadata": {
      "needs_background": "light"
     },
     "output_type": "display_data"
    }
   ],
   "source": [
    "# let's plot some of this data to see what it looks like\n",
    "\n",
    "_ = copper[['WORLDCONSUMPTION', 'COPPERPRICE', 'ALUMPRICE', 'INCOMEINDEX']].plot(subplots=True)"
   ]
  },
  {
   "cell_type": "code",
   "execution_count": 84,
   "metadata": {},
   "outputs": [
    {
     "data": {
      "text/plain": [
       "<matplotlib.axes._subplots.AxesSubplot at 0x230cd3660c8>"
      ]
     },
     "execution_count": 84,
     "metadata": {},
     "output_type": "execute_result"
    },
    {
     "data": {
      "image/png": "[encoded data removed]",
      "text/plain": [
       "<Figure size 1152x360 with 3 Axes>"
      ]
     },
     "metadata": {
      "needs_background": "light"
     },
     "output_type": "display_data"
    }
   ],
   "source": [
    "# hmm that's not very readable. Let's split it.\n",
    "\n",
    "fig, (ax1, ax2, ax3) = plt.subplots(1, 3, figsize=(16,5))\n",
    "copper['WORLDCONSUMPTION'].plot(ax=ax1, title=\"World Consumption\")\n",
    "copper[['INCOMEINDEX']].plot(ax=ax2, title=\"Income\")\n",
    "copper[['COPPERPRICE', 'ALUMPRICE']].plot(ax=ax3, title=\"Prices\")"
   ]
  },
  {
   "cell_type": "markdown",
   "metadata": {},
   "source": [
    "\n",
    "Some of these look like they might move together, though some of them less so. We can use __covariance__ and __correlation__ to quantify these relationships.\n",
    "\n",
    "#### Covariance\n",
    "\n",
    "__Population Covariance__\n",
    "\n",
    "$$Cov(X,Y) = \\frac{1}{n}\\sum_{i=1}^n{(x_i - \\mu_x)(y_i - \\mu_y)}$$\n",
    "\n",
    "__Sample Covariance__\n",
    "\n",
    "$$q_{x,y} = \\frac{1}{n-1}\\sum_{i=1}^n{(x_i - \\bar{x})(y_i - \\bar{y})}$$\n",
    "\n",
    "__Population Correlation__\n",
    "\n",
    "$$Corr(X,Y) = \\frac{Cov(X,Y)}{\\sigma_X\\sigma_Y}$$\n",
    "\n",
    "__Sample Correlation__\n",
    "\n",
    "$$r(X,Y) = \\frac{\\frac{1}{n-1}\\sum_{i=1}^n{(x_i - \\bar{x})(y_i - \\bar{y})}}{s_xs_y}$$"
   ]
  },
  {
   "cell_type": "markdown",
   "metadata": {},
   "source": [
    "Let's first look at the covariance and correlation of our data, starting with WORLDCONSUMPTION and INCOMEINDEX which look like they move together:"
   ]
  },
  {
   "cell_type": "code",
   "execution_count": 85,
   "metadata": {},
   "outputs": [
    {
     "name": "stdout",
     "output_type": "stream",
     "text": [
      "Covariance of WORLDCONSUMPTION and INCOMEINDEX: 235.7199533333333\n",
      "Correlation of WORLDCONSUMPTION and INCOMEINDEX: 0.9779588757690936\n"
     ]
    }
   ],
   "source": [
    "# in pandas, you calculate the covariance buy calling Series1.corr(Series2)\n",
    "print(\"Covariance of WORLDCONSUMPTION and INCOMEINDEX: {}\".format(copper.WORLDCONSUMPTION.cov(copper.INCOMEINDEX)))\n",
    "print(\"Correlation of WORLDCONSUMPTION and INCOMEINDEX: {}\".format(copper.WORLDCONSUMPTION.corr(copper.INCOMEINDEX)))"
   ]
  },
  {
   "cell_type": "markdown",
   "metadata": {},
   "source": [
    "Those seem very highly correlated!  Let's look at some other examples."
   ]
  },
  {
   "cell_type": "code",
   "execution_count": 86,
   "metadata": {},
   "outputs": [
    {
     "name": "stdout",
     "output_type": "stream",
     "text": [
      "Covariance of COPPERPRICE and ALUMPRICE: 0.46337416666666553\n",
      "Correlation of COPPERPRICE and ALUMPRICE: 0.02847764942413591\n"
     ]
    }
   ],
   "source": [
    "print(\"Covariance of COPPERPRICE and ALUMPRICE: {}\".format(copper.COPPERPRICE.cov(copper.ALUMPRICE)))\n",
    "print(\"Correlation of COPPERPRICE and ALUMPRICE: {}\".format(copper.COPPERPRICE.corr(copper.ALUMPRICE)))"
   ]
  },
  {
   "cell_type": "code",
   "execution_count": 87,
   "metadata": {},
   "outputs": [
    {
     "name": "stdout",
     "output_type": "stream",
     "text": [
      "Covariance of COPPERPRICE and ALUMPRICE: 0.46337416666666553\n",
      "Correlation of COPPERPRICE and ALUMPRICE: 0.02847764942413591\n"
     ]
    }
   ],
   "source": [
    "print(\"Covariance of COPPERPRICE and ALUMPRICE: {}\".format(copper.COPPERPRICE.cov(copper.ALUMPRICE)))\n",
    "print(\"Correlation of COPPERPRICE and ALUMPRICE: {}\".format(copper.COPPERPRICE.corr(copper.ALUMPRICE)))"
   ]
  },
  {
   "cell_type": "code",
   "execution_count": 88,
   "metadata": {},
   "outputs": [
    {
     "name": "stdout",
     "output_type": "stream",
     "text": [
      "14.51420714285714\n",
      "0.6983650706303188\n"
     ]
    }
   ],
   "source": [
    "short_copper = copper.loc[1951:1957].COPPERPRICE\n",
    "short_alum = copper.loc[1951:1957].ALUMPRICE\n",
    "print(short_copper.cov(short_alum))\n",
    "print(short_copper.corr(short_alum))"
   ]
  },
  {
   "cell_type": "markdown",
   "metadata": {},
   "source": [
    "For more detail on covariance and correlation here is a nice description: [Correlation and Covariance](https://towardsdatascience.com/let-us-understand-the-correlation-matrix-and-covariance-matrix-d42e6b643c22)."
   ]
  },
  {
   "cell_type": "markdown",
   "metadata": {},
   "source": [
    "## Appendix\n",
    "Code for some of the charts"
   ]
  },
  {
   "cell_type": "code",
   "execution_count": null,
   "metadata": {},
   "outputs": [],
   "source": [
    "# How did we make this chart?\n",
    "from scipy.stats import norm\n",
    "\n",
    "# numpy's randn function generates data that is \"normally\" distributed.\n",
    "x = np.linspace(norm.ppf(0.01),\n",
    "                norm.ppf(0.99), 100)\n",
    "\n",
    "\n",
    "plt.plot(x, norm.pdf(x), 'r-', label='Normal Distribution')\n",
    "plt.title(\"A Normal Distribution\")\n",
    "plt.show()"
   ]
  },
  {
   "cell_type": "code",
   "execution_count": null,
   "metadata": {},
   "outputs": [],
   "source": []
  }
 ],
 "metadata": {
  "kernelspec": {
   "display_name": "Python 3",
   "language": "python",
   "name": "python3"
  },
  "language_info": {
   "codemirror_mode": {
    "name": "ipython",
    "version": 3
   },
   "file_extension": ".py",
   "mimetype": "text/x-python",
   "name": "python",
   "nbconvert_exporter": "python",
   "pygments_lexer": "ipython3",
   "version": "3.7.6"
  }
 },
 "nbformat": 4,
 "nbformat_minor": 4
}
