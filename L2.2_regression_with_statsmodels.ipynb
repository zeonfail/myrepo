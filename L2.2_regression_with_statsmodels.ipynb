{
 "cells": [
  {
   "cell_type": "markdown",
   "metadata": {
    "slideshow": {
     "slide_type": "slide"
    }
   },
   "source": [
    "# Linear Regression with _statsmodels_\n",
    "\n",
    "We have seen that sometimes different data sets appear to vary together.  Statistical methods such as regression attempt answer that question.\n",
    "\n",
    "__Linear Regression__ attempts to model this relationship between a __response__ or __dependent variable__ and one or more __independent variables__.\n",
    "\n",
    "Linear regression may be used to a) quantify the strength of the relationship between data series and b) forecast future values of the dependent variable based on the independent data.\n",
    "\n",
    "__NOTE__: Regression analysis is a deep and complex subject: this is hopefully a good practical introduction to the topic but there are many subtleties and I encourage you to do more in-depth coursework to build on this foundation."
   ]
  },
  {
   "cell_type": "markdown",
   "metadata": {
    "slideshow": {
     "slide_type": "slide"
    }
   },
   "source": [
    "### Definition\n",
    "A full treatment of regression is well beyond the time we have, but to put it simply, a linear regression model assumes that there is some relationship between the dependent variable series $\\vec{y}$ and some matrix $\\boldsymbol{X}$ of independent series where each series is related to $\\vec{y}$ by a matrix of coefficients $\\boldsymbol{\\beta}$:\n",
    "\n",
    "### $$ \\vec{y} = \\beta\\boldsymbol{X} $$\n",
    "\n",
    "For a _simple regression_ with one independent variable, this looks exactly like a linear function:\n",
    "\n",
    "### $$ \\hat{y} = \\beta\\vec{x} + c  $$\n",
    "\n",
    "where $\\hat{y}$ is the estimate of $\\vec{y}$ and $c$ is the y-intercept of the function.\n",
    "\n",
    "The goal of the regression analysis is to find the $\\beta$ coefficient that best fits the data. One method that we'll look at today, __ordinary least squares__, does this by minimizing the distance between the estimated $\\hat{y}$ and the true values $\\vec{y}$.\n",
    "\n",
    "Let's look at an example now."
   ]
  },
  {
   "cell_type": "markdown",
   "metadata": {},
   "source": [
    "### Ordinary Least Squares Regression with statsmodels: an example\n",
    "\n",
    "<sub>(_adapted from [statsmodels.org](https://www.statsmodels.org/devel/)_)</sub>"
   ]
  },
  {
   "cell_type": "code",
   "execution_count": 1,
   "metadata": {
    "slideshow": {
     "slide_type": "slide"
    }
   },
   "outputs": [],
   "source": [
    "import statsmodels.api as sm\n",
    "import statsmodels.formula.api as smf\n",
    "import numpy as np\n",
    "\n",
    "# let's get our copper data from last week\n",
    "copper = sm.datasets.copper.load_pandas().data\n",
    "years = np.arange(1951, 1976)\n",
    "copper.index = years"
   ]
  },
  {
   "cell_type": "markdown",
   "metadata": {},
   "source": [
    "Let's look at this data again, and think about what kinds of economic relationships."
   ]
  },
  {
   "cell_type": "code",
   "execution_count": 2,
   "metadata": {},
   "outputs": [
    {
     "data": {
      "text/html": [
       "<div>\n",
       "<style scoped>\n",
       "    .dataframe tbody tr th:only-of-type {\n",
       "        vertical-align: middle;\n",
       "    }\n",
       "\n",
       "    .dataframe tbody tr th {\n",
       "        vertical-align: top;\n",
       "    }\n",
       "\n",
       "    .dataframe thead th {\n",
       "        text-align: right;\n",
       "    }\n",
       "</style>\n",
       "<table border=\"1\" class=\"dataframe\">\n",
       "  <thead>\n",
       "    <tr style=\"text-align: right;\">\n",
       "      <th></th>\n",
       "      <th>WORLDCONSUMPTION</th>\n",
       "      <th>COPPERPRICE</th>\n",
       "      <th>INCOMEINDEX</th>\n",
       "      <th>ALUMPRICE</th>\n",
       "      <th>INVENTORYINDEX</th>\n",
       "      <th>TIME</th>\n",
       "    </tr>\n",
       "  </thead>\n",
       "  <tbody>\n",
       "    <tr>\n",
       "      <th>1951</th>\n",
       "      <td>3173.0</td>\n",
       "      <td>26.56</td>\n",
       "      <td>0.70</td>\n",
       "      <td>19.76</td>\n",
       "      <td>0.98</td>\n",
       "      <td>1.0</td>\n",
       "    </tr>\n",
       "    <tr>\n",
       "      <th>1952</th>\n",
       "      <td>3281.1</td>\n",
       "      <td>27.31</td>\n",
       "      <td>0.71</td>\n",
       "      <td>20.78</td>\n",
       "      <td>1.04</td>\n",
       "      <td>2.0</td>\n",
       "    </tr>\n",
       "    <tr>\n",
       "      <th>1953</th>\n",
       "      <td>3135.7</td>\n",
       "      <td>32.95</td>\n",
       "      <td>0.72</td>\n",
       "      <td>22.55</td>\n",
       "      <td>1.05</td>\n",
       "      <td>3.0</td>\n",
       "    </tr>\n",
       "    <tr>\n",
       "      <th>1954</th>\n",
       "      <td>3359.1</td>\n",
       "      <td>33.90</td>\n",
       "      <td>0.70</td>\n",
       "      <td>23.06</td>\n",
       "      <td>0.97</td>\n",
       "      <td>4.0</td>\n",
       "    </tr>\n",
       "    <tr>\n",
       "      <th>1955</th>\n",
       "      <td>3755.1</td>\n",
       "      <td>42.70</td>\n",
       "      <td>0.74</td>\n",
       "      <td>24.93</td>\n",
       "      <td>1.02</td>\n",
       "      <td>5.0</td>\n",
       "    </tr>\n",
       "    <tr>\n",
       "      <th>1956</th>\n",
       "      <td>3875.9</td>\n",
       "      <td>46.11</td>\n",
       "      <td>0.74</td>\n",
       "      <td>26.50</td>\n",
       "      <td>1.04</td>\n",
       "      <td>6.0</td>\n",
       "    </tr>\n",
       "    <tr>\n",
       "      <th>1957</th>\n",
       "      <td>3905.7</td>\n",
       "      <td>31.70</td>\n",
       "      <td>0.74</td>\n",
       "      <td>27.24</td>\n",
       "      <td>0.98</td>\n",
       "      <td>7.0</td>\n",
       "    </tr>\n",
       "    <tr>\n",
       "      <th>1958</th>\n",
       "      <td>3957.6</td>\n",
       "      <td>27.23</td>\n",
       "      <td>0.72</td>\n",
       "      <td>26.21</td>\n",
       "      <td>0.98</td>\n",
       "      <td>8.0</td>\n",
       "    </tr>\n",
       "    <tr>\n",
       "      <th>1959</th>\n",
       "      <td>4279.1</td>\n",
       "      <td>32.89</td>\n",
       "      <td>0.75</td>\n",
       "      <td>26.09</td>\n",
       "      <td>1.03</td>\n",
       "      <td>9.0</td>\n",
       "    </tr>\n",
       "    <tr>\n",
       "      <th>1960</th>\n",
       "      <td>4627.9</td>\n",
       "      <td>33.78</td>\n",
       "      <td>0.77</td>\n",
       "      <td>27.40</td>\n",
       "      <td>1.03</td>\n",
       "      <td>10.0</td>\n",
       "    </tr>\n",
       "    <tr>\n",
       "      <th>1961</th>\n",
       "      <td>4910.2</td>\n",
       "      <td>31.66</td>\n",
       "      <td>0.76</td>\n",
       "      <td>26.94</td>\n",
       "      <td>0.98</td>\n",
       "      <td>11.0</td>\n",
       "    </tr>\n",
       "    <tr>\n",
       "      <th>1962</th>\n",
       "      <td>4908.4</td>\n",
       "      <td>32.28</td>\n",
       "      <td>0.79</td>\n",
       "      <td>25.18</td>\n",
       "      <td>1.00</td>\n",
       "      <td>12.0</td>\n",
       "    </tr>\n",
       "    <tr>\n",
       "      <th>1963</th>\n",
       "      <td>5327.9</td>\n",
       "      <td>32.38</td>\n",
       "      <td>0.83</td>\n",
       "      <td>23.94</td>\n",
       "      <td>0.97</td>\n",
       "      <td>13.0</td>\n",
       "    </tr>\n",
       "    <tr>\n",
       "      <th>1964</th>\n",
       "      <td>5878.4</td>\n",
       "      <td>33.75</td>\n",
       "      <td>0.85</td>\n",
       "      <td>25.07</td>\n",
       "      <td>1.03</td>\n",
       "      <td>14.0</td>\n",
       "    </tr>\n",
       "    <tr>\n",
       "      <th>1965</th>\n",
       "      <td>6075.2</td>\n",
       "      <td>36.25</td>\n",
       "      <td>0.89</td>\n",
       "      <td>25.37</td>\n",
       "      <td>1.08</td>\n",
       "      <td>15.0</td>\n",
       "    </tr>\n",
       "    <tr>\n",
       "      <th>1966</th>\n",
       "      <td>6312.7</td>\n",
       "      <td>36.24</td>\n",
       "      <td>0.93</td>\n",
       "      <td>24.55</td>\n",
       "      <td>1.05</td>\n",
       "      <td>16.0</td>\n",
       "    </tr>\n",
       "    <tr>\n",
       "      <th>1967</th>\n",
       "      <td>6056.8</td>\n",
       "      <td>38.23</td>\n",
       "      <td>0.95</td>\n",
       "      <td>24.98</td>\n",
       "      <td>1.03</td>\n",
       "      <td>17.0</td>\n",
       "    </tr>\n",
       "    <tr>\n",
       "      <th>1968</th>\n",
       "      <td>6375.9</td>\n",
       "      <td>40.83</td>\n",
       "      <td>0.99</td>\n",
       "      <td>24.96</td>\n",
       "      <td>1.03</td>\n",
       "      <td>18.0</td>\n",
       "    </tr>\n",
       "    <tr>\n",
       "      <th>1969</th>\n",
       "      <td>6974.3</td>\n",
       "      <td>44.62</td>\n",
       "      <td>1.00</td>\n",
       "      <td>25.52</td>\n",
       "      <td>0.99</td>\n",
       "      <td>19.0</td>\n",
       "    </tr>\n",
       "    <tr>\n",
       "      <th>1970</th>\n",
       "      <td>7101.6</td>\n",
       "      <td>52.27</td>\n",
       "      <td>1.00</td>\n",
       "      <td>26.01</td>\n",
       "      <td>1.00</td>\n",
       "      <td>20.0</td>\n",
       "    </tr>\n",
       "    <tr>\n",
       "      <th>1971</th>\n",
       "      <td>7071.7</td>\n",
       "      <td>45.16</td>\n",
       "      <td>1.02</td>\n",
       "      <td>25.46</td>\n",
       "      <td>0.96</td>\n",
       "      <td>21.0</td>\n",
       "    </tr>\n",
       "    <tr>\n",
       "      <th>1972</th>\n",
       "      <td>7754.8</td>\n",
       "      <td>42.50</td>\n",
       "      <td>1.07</td>\n",
       "      <td>22.17</td>\n",
       "      <td>0.97</td>\n",
       "      <td>22.0</td>\n",
       "    </tr>\n",
       "    <tr>\n",
       "      <th>1973</th>\n",
       "      <td>8480.3</td>\n",
       "      <td>43.70</td>\n",
       "      <td>1.12</td>\n",
       "      <td>18.56</td>\n",
       "      <td>0.98</td>\n",
       "      <td>23.0</td>\n",
       "    </tr>\n",
       "    <tr>\n",
       "      <th>1974</th>\n",
       "      <td>8105.2</td>\n",
       "      <td>47.88</td>\n",
       "      <td>1.10</td>\n",
       "      <td>21.32</td>\n",
       "      <td>1.01</td>\n",
       "      <td>24.0</td>\n",
       "    </tr>\n",
       "    <tr>\n",
       "      <th>1975</th>\n",
       "      <td>7157.2</td>\n",
       "      <td>36.33</td>\n",
       "      <td>1.07</td>\n",
       "      <td>22.75</td>\n",
       "      <td>0.94</td>\n",
       "      <td>25.0</td>\n",
       "    </tr>\n",
       "  </tbody>\n",
       "</table>\n",
       "</div>"
      ],
      "text/plain": [
       "      WORLDCONSUMPTION  COPPERPRICE  INCOMEINDEX  ALUMPRICE  INVENTORYINDEX  \\\n",
       "1951            3173.0        26.56         0.70      19.76            0.98   \n",
       "1952            3281.1        27.31         0.71      20.78            1.04   \n",
       "1953            3135.7        32.95         0.72      22.55            1.05   \n",
       "1954            3359.1        33.90         0.70      23.06            0.97   \n",
       "1955            3755.1        42.70         0.74      24.93            1.02   \n",
       "1956            3875.9        46.11         0.74      26.50            1.04   \n",
       "1957            3905.7        31.70         0.74      27.24            0.98   \n",
       "1958            3957.6        27.23         0.72      26.21            0.98   \n",
       "1959            4279.1        32.89         0.75      26.09            1.03   \n",
       "1960            4627.9        33.78         0.77      27.40            1.03   \n",
       "1961            4910.2        31.66         0.76      26.94            0.98   \n",
       "1962            4908.4        32.28         0.79      25.18            1.00   \n",
       "1963            5327.9        32.38         0.83      23.94            0.97   \n",
       "1964            5878.4        33.75         0.85      25.07            1.03   \n",
       "1965            6075.2        36.25         0.89      25.37            1.08   \n",
       "1966            6312.7        36.24         0.93      24.55            1.05   \n",
       "1967            6056.8        38.23         0.95      24.98            1.03   \n",
       "1968            6375.9        40.83         0.99      24.96            1.03   \n",
       "1969            6974.3        44.62         1.00      25.52            0.99   \n",
       "1970            7101.6        52.27         1.00      26.01            1.00   \n",
       "1971            7071.7        45.16         1.02      25.46            0.96   \n",
       "1972            7754.8        42.50         1.07      22.17            0.97   \n",
       "1973            8480.3        43.70         1.12      18.56            0.98   \n",
       "1974            8105.2        47.88         1.10      21.32            1.01   \n",
       "1975            7157.2        36.33         1.07      22.75            0.94   \n",
       "\n",
       "      TIME  \n",
       "1951   1.0  \n",
       "1952   2.0  \n",
       "1953   3.0  \n",
       "1954   4.0  \n",
       "1955   5.0  \n",
       "1956   6.0  \n",
       "1957   7.0  \n",
       "1958   8.0  \n",
       "1959   9.0  \n",
       "1960  10.0  \n",
       "1961  11.0  \n",
       "1962  12.0  \n",
       "1963  13.0  \n",
       "1964  14.0  \n",
       "1965  15.0  \n",
       "1966  16.0  \n",
       "1967  17.0  \n",
       "1968  18.0  \n",
       "1969  19.0  \n",
       "1970  20.0  \n",
       "1971  21.0  \n",
       "1972  22.0  \n",
       "1973  23.0  \n",
       "1974  24.0  \n",
       "1975  25.0  "
      ]
     },
     "execution_count": 2,
     "metadata": {},
     "output_type": "execute_result"
    }
   ],
   "source": [
    "copper"
   ]
  },
  {
   "cell_type": "markdown",
   "metadata": {},
   "source": [
    "We first need to define the variables that we want to use in our $\\hat{y} = \\beta\\vec{x}$.  In statsmodels for OLS, we do this by specifying the model as:\n",
    "\n",
    "<div style=\"text-align:center\"> $\\hat{y}$ ~ $\\vec{x}$"
   ]
  },
  {
   "cell_type": "code",
   "execution_count": 3,
   "metadata": {},
   "outputs": [],
   "source": [
    "# R model formulation, provides intercept by default\n",
    "results = smf.ols('WORLDCONSUMPTION ~ INCOMEINDEX', data=copper).fit()"
   ]
  },
  {
   "cell_type": "code",
   "execution_count": 4,
   "metadata": {},
   "outputs": [
    {
     "name": "stdout",
     "output_type": "stream",
     "text": [
      "                            OLS Regression Results                            \n",
      "==============================================================================\n",
      "Dep. Variable:       WORLDCONSUMPTION   R-squared:                       0.956\n",
      "Model:                            OLS   Adj. R-squared:                  0.955\n",
      "Method:                 Least Squares   F-statistic:                     504.6\n",
      "Date:                Sun, 31 May 2020   Prob (F-statistic):           3.79e-17\n",
      "Time:                        21:30:04   Log-Likelihood:                -181.31\n",
      "No. Observations:                  25   AIC:                             366.6\n",
      "Df Residuals:                      23   BIC:                             369.1\n",
      "Df Model:                           1                                         \n",
      "Covariance Type:            nonrobust                                         \n",
      "===============================================================================\n",
      "                  coef    std err          t      P>|t|      [0.025      0.975]\n",
      "-------------------------------------------------------------------------------\n",
      "Intercept   -4365.8514    442.034     -9.877      0.000   -5280.269   -3451.434\n",
      "INCOMEINDEX  1.131e+04    503.530     22.463      0.000    1.03e+04    1.24e+04\n",
      "==============================================================================\n",
      "Omnibus:                        0.201   Durbin-Watson:                   0.641\n",
      "Prob(Omnibus):                  0.904   Jarque-Bera (JB):                0.407\n",
      "Skew:                           0.007   Prob(JB):                        0.816\n",
      "Kurtosis:                       2.375   Cond. No.                         12.4\n",
      "==============================================================================\n",
      "\n",
      "Warnings:\n",
      "[1] Standard Errors assume that the covariance matrix of the errors is correctly specified.\n"
     ]
    }
   ],
   "source": [
    "print(results.summary())"
   ]
  },
  {
   "cell_type": "code",
   "execution_count": null,
   "metadata": {},
   "outputs": [],
   "source": [
    "print(results.params)"
   ]
  },
  {
   "cell_type": "code",
   "execution_count": null,
   "metadata": {},
   "outputs": [],
   "source": [
    "results.params['INCOMEINDEX']"
   ]
  },
  {
   "cell_type": "markdown",
   "metadata": {},
   "source": [
    "### So what does all this stuff mean?\n",
    "\n",
    "Let's look at the output equation itself, including the intercept and coefficient. Our output function looks like\n",
    "\n",
    "$$\n",
    "\\mbox{WORLDCONSUMPTION} = (1.131\\times10^4 * \\mbox{INCOMEINDEX}) - 4365.8514\n",
    "$$"
   ]
  },
  {
   "cell_type": "code",
   "execution_count": null,
   "metadata": {},
   "outputs": [],
   "source": [
    "# we could plot that...\n",
    "import matplotlib.pyplot as plt\n",
    "\n",
    "intercept = results.params.Intercept\n",
    "income_coef = results.params.INCOMEINDEX\n",
    "\n",
    "rsq = results.rsquared\n",
    "\n",
    "#plt.plot(income_coef*copper.INCOMEINDEX + intercept, \"r\", label=\"Predicted\")\n",
    "plt.plot(results.fittedvalues, \"r\", label=\"Predicted\")\n",
    "\n",
    "plt.plot(copper.WORLDCONSUMPTION, \"g\", label=\"Actual\")\n",
    "\n",
    "plt.legend()\n",
    "plt.title(\"R-squared = {:.3f}\".format(rsq))\n",
    "plt.show()"
   ]
  },
  {
   "cell_type": "markdown",
   "metadata": {},
   "source": [
    "### Goodness of Fit, Part I\n",
    "\n",
    "__R-squared__ This describes the \"goodness of fit\", or well the model explains the variation of the dependent variable. It can be thought of as:\n",
    "\n",
    "$$ \\mbox{R-squared} = \\frac{\\mbox{explained variation}}{\\mbox{total variation}} $$\n",
    "\n",
    "__AIC__ Aikake Information Criterion - a measure of the distance between fitted values and the unknown \"true\" model. Lower is better.\n",
    "\n",
    "__BIC__ Bayesian Information Criterion - similar to AIC. Lower is better.\n",
    "\n",
    "__Coefficient p-values__ a measure of whether a given independent variable is signficant. Lower is better (generally p < 0.05 is significant)"
   ]
  },
  {
   "cell_type": "markdown",
   "metadata": {},
   "source": [
    "### Regressing without an intercept\n",
    "\n",
    "The smf OLS package automatically adds an intercept term to the regression. Sometimes we don't want that. To this we can specify a \"-1\" in the regression model:"
   ]
  },
  {
   "cell_type": "code",
   "execution_count": null,
   "metadata": {},
   "outputs": [],
   "source": [
    "# R model formulation, provides intercept by default\n",
    "results2 = smf.ols('WORLDCONSUMPTION ~ INCOMEINDEX - 1', data=copper).fit()"
   ]
  },
  {
   "cell_type": "code",
   "execution_count": null,
   "metadata": {},
   "outputs": [],
   "source": [
    "print(results2.summary())"
   ]
  },
  {
   "cell_type": "code",
   "execution_count": null,
   "metadata": {},
   "outputs": [],
   "source": [
    "print(results2.params)"
   ]
  },
  {
   "cell_type": "code",
   "execution_count": null,
   "metadata": {},
   "outputs": [],
   "source": [
    "# we could plot that...\n",
    "import matplotlib.pyplot as plt\n",
    "\n",
    "rsq2 = results2.rsquared\n",
    "income_coef2 = results2.params.INCOMEINDEX\n",
    "\n",
    "#plt.plot(income_coef2*copper.INCOMEINDEX, \"r\", label=\"Predicted\")\n",
    "plt.plot(results2.fittedvalues, \"r\", label=\"Predicted\")\n",
    "\n",
    "plt.plot(copper.WORLDCONSUMPTION, \"g\", label=\"Actual\")\n",
    "plt.legend()\n",
    "plt.title(\"R-squared = {:.3f}\".format(rsq2))\n",
    "plt.show()"
   ]
  },
  {
   "cell_type": "markdown",
   "metadata": {},
   "source": [
    "Another way to visualize the goodness of fit is through the use of regression plot."
   ]
  },
  {
   "cell_type": "code",
   "execution_count": null,
   "metadata": {},
   "outputs": [],
   "source": [
    "fig, (ax1, ax2) = plt.subplots(1, 2, figsize=(16,5))\n",
    "\n",
    "# with intercept\n",
    "ax1.scatter(copper.INCOMEINDEX, copper.WORLDCONSUMPTION)\n",
    "ax1.plot(copper.INCOMEINDEX,income_coef*copper.INCOMEINDEX + intercept, \"r\")\n",
    "ax1.title.set_text(\"With intercept\")\n",
    "\n",
    "# without intercept\n",
    "ax2.scatter(copper.INCOMEINDEX, copper.WORLDCONSUMPTION)\n",
    "ax2.plot(copper.INCOMEINDEX,income_coef2*copper.INCOMEINDEX, \"r\")\n",
    "ax2.title.set_text(\"Without intercept\")\n",
    "\n",
    "plt.show()"
   ]
  },
  {
   "cell_type": "markdown",
   "metadata": {},
   "source": [
    "## Multiple Regression\n",
    "\n",
    "We can do the exact same approach but use multiple independent variables in the model"
   ]
  },
  {
   "cell_type": "code",
   "execution_count": null,
   "metadata": {},
   "outputs": [],
   "source": [
    "# R model formulation, provides intercept by default\n",
    "results_mult = smf.ols('WORLDCONSUMPTION ~ INCOMEINDEX + COPPERPRICE', data=copper).fit()"
   ]
  },
  {
   "cell_type": "code",
   "execution_count": null,
   "metadata": {},
   "outputs": [],
   "source": [
    "print(results_mult.summary())"
   ]
  },
  {
   "cell_type": "code",
   "execution_count": null,
   "metadata": {},
   "outputs": [],
   "source": [
    "params_mult = results_mult.params\n",
    "print(params_mult)"
   ]
  },
  {
   "cell_type": "code",
   "execution_count": null,
   "metadata": {},
   "outputs": [],
   "source": [
    "# let's plot our actual vs fitted again...\n",
    "import matplotlib.pyplot as plt\n",
    "\n",
    "rsq_mult = results_mult.rsquared\n",
    "income_coef_mult = results_mult.params.INCOMEINDEX\n",
    "\n",
    "plt.plot(results_mult.fittedvalues, \"r\", label=\"Predicted\")\n",
    "\n",
    "plt.plot(copper.WORLDCONSUMPTION, \"g\", label=\"Actual\")\n",
    "plt.legend()\n",
    "plt.title(\"R-squared = {:.3f}\".format(rsq_mult))\n",
    "plt.show()"
   ]
  },
  {
   "cell_type": "markdown",
   "metadata": {},
   "source": [
    "### Goodness of Fit, Part II: which one of the above is better given the plots, R-squared, AIC and BIC?\n",
    "\n",
    "if we examine all the above, which one do we think is a better fit?"
   ]
  },
  {
   "cell_type": "code",
   "execution_count": null,
   "metadata": {},
   "outputs": [],
   "source": [
    "import pandas as pd\n",
    "\n",
    "# make a dataframe for easy comparison\n",
    "res1 = {\"rsq\" : results.rsquared, \"rsq-adj\" : results.rsquared_adj, \"AIC\" : results.aic, \"BIC\" : results.bic }\n",
    "res2 = {\"rsq\" : results2.rsquared, \"rsq-adj\" : results2.rsquared_adj, \"AIC\" : results2.aic, \"BIC\" : results2.bic }\n",
    "res3 = {\"rsq\" : results_mult.rsquared, \"rsq-adj\" : results_mult.rsquared_adj, \"AIC\" : results_mult.aic, \"BIC\" : results_mult.bic }\n",
    "\n",
    "all_results = pd.DataFrame([res1, res2, res3], index=[\"intercept\", \"no intercept\", \"multiple\"])"
   ]
  },
  {
   "cell_type": "code",
   "execution_count": null,
   "metadata": {},
   "outputs": [],
   "source": [
    "all_results"
   ]
  },
  {
   "cell_type": "code",
   "execution_count": null,
   "metadata": {},
   "outputs": [],
   "source": []
  }
 ],
 "metadata": {
  "kernelspec": {
   "display_name": "Python 3",
   "language": "python",
   "name": "python3"
  },
  "language_info": {
   "codemirror_mode": {
    "name": "ipython",
    "version": 3
   },
   "file_extension": ".py",
   "mimetype": "text/x-python",
   "name": "python",
   "nbconvert_exporter": "python",
   "pygments_lexer": "ipython3",
   "version": "3.7.6"
  }
 },
 "nbformat": 4,
 "nbformat_minor": 4
}
