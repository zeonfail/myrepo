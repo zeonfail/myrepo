{
 "cells": [
  {
   "cell_type": "markdown",
   "metadata": {},
   "source": [
    "# The Capital Asset Pricing Model\n",
    "\n",
    "In this section we will explore deriving the Betas for CAPM via Ordinary Least Squares Regression Analysis.\n",
    "\n",
    "We can choose any interval (daily, weekly, monthly, etc.) to calculate $\\beta$, but in order to enable comparisons with published betas we'll use a monthly interval, and look at the last five years.\n",
    "\n",
    "\n",
    "## Setting up our Regression\n",
    "Let's revisit the CAPM equation:\n",
    "\n",
    "## $$E(R_i)=R_f+\\beta_i(E(R_m)-R_f)$$\n",
    "\n",
    "With a bit of rearrangment this becomes:\n",
    "## $$E(R_i)=R_f + \\beta_iE(R_m) - \\beta_iR_f$$\n",
    "\n",
    "## $$E(R_i)=(1-\\beta_i)R_f + \\beta_iE(R_m)$$\n",
    "\n",
    "Redefining the first term as $a$ gives us a one-variable form with intercept (assuming for the moment that $R_f$ is closer to being a constant)$\n",
    "\n",
    "## $$E(R_i)=a + \\beta_iE(R_m)$$\n",
    "\n",
    "We can use this to do a simple regression."
   ]
  },
  {
   "cell_type": "code",
   "execution_count": null,
   "metadata": {},
   "outputs": [],
   "source": [
    "import matplotlib.pyplot as plt\n",
    "import numpy as np\n",
    "import getstock as gs\n",
    "import pandas as pd\n",
    "\n",
    "from pandas.plotting import register_matplotlib_converters\n",
    "register_matplotlib_converters()\n",
    "\n",
    "apikey = \"B0LGKLAGCAQEQ2T1\""
   ]
  },
  {
   "cell_type": "markdown",
   "metadata": {},
   "source": [
    "### Let's get our data\n",
    "\n",
    "We want to calculate returns so we'll need:\n",
    "1. Index monthly prices\n",
    "1. Stock monthly prices and dividends\n",
    "1. We will calculate returns from these\n",
    " 1. The index levels are inclusive of dividends so we can just use the pandas pct_change() function \n",
    " 1. But for the stock we want to include dividends in the return. We calculate return from our prices $P$ and dividends $D$ for each period as:\n",
    " \n",
    " \n",
    " $$ \\frac{P_{end} - P_{begin} + D}{P_{begin}} $$"
   ]
  },
  {
   "cell_type": "code",
   "execution_count": null,
   "metadata": {},
   "outputs": [],
   "source": [
    "# our stock\n",
    "stock_symbol = \"AAPL\"\n",
    "\n",
    "# stock monthly\n",
    "stock_data = gs.getMonthlyStockPrices(stock_symbol, apikey)\n",
    "\n",
    "# spx\n",
    "index_data = gs.getMonthlyStockPrices(\"SPY\", apikey)\n",
    "\n",
    "# trim the data\n",
    "stock_trimmed = stock_data['2015':]\n",
    "\n",
    "index_trimmed = index_data['2015':]"
   ]
  },
  {
   "cell_type": "code",
   "execution_count": null,
   "metadata": {},
   "outputs": [],
   "source": [
    "# check our data, do we have dividends, etc?\n",
    "stock_trimmed[stock_trimmed.dividend_amt > 0]"
   ]
  },
  {
   "cell_type": "code",
   "execution_count": null,
   "metadata": {},
   "outputs": [],
   "source": [
    "stock_trimmed.head()"
   ]
  },
  {
   "cell_type": "code",
   "execution_count": null,
   "metadata": {},
   "outputs": [],
   "source": [
    "# calculate returns\n",
    "index_returns = index_trimmed.adjusted_close.pct_change()\n",
    "\n",
    "# calc returns with dividends\n",
    "stock_returns = (stock_trimmed.adjusted_close - stock_trimmed.adjusted_close.shift(1) + stock_trimmed.dividend_amt) / stock_trimmed.adjusted_close.shift(1)"
   ]
  },
  {
   "cell_type": "code",
   "execution_count": null,
   "metadata": {},
   "outputs": [],
   "source": [
    "# check our data\n",
    "index_returns.head()"
   ]
  },
  {
   "cell_type": "code",
   "execution_count": null,
   "metadata": {},
   "outputs": [],
   "source": [
    "# clean up our N/As in first period\n",
    "index_returns = index_returns.dropna()\n",
    "stock_returns = stock_returns.dropna()"
   ]
  },
  {
   "cell_type": "markdown",
   "metadata": {},
   "source": [
    "Before we do the regression, let's compare the returns of the stock and the market visually..."
   ]
  },
  {
   "cell_type": "code",
   "execution_count": null,
   "metadata": {},
   "outputs": [],
   "source": [
    "# for fun let's plot the stock returns and index (market) returns for the period.\n",
    "fig, ax1 = plt.subplots(1, 1, figsize=(10, 6))\n",
    "\n",
    "plt.plot(stock_returns, 'r-', label=stock_symbol)\n",
    "plt.plot(index_returns, 'g-', label=\"S&P500\")\n",
    "fig.suptitle(\"{} vs the Market\".format(stock_symbol))\n",
    "plt.legend()\n",
    "plt.show()"
   ]
  },
  {
   "cell_type": "markdown",
   "metadata": {},
   "source": [
    "### Calculating Beta by OLS Regression"
   ]
  },
  {
   "cell_type": "code",
   "execution_count": null,
   "metadata": {},
   "outputs": [],
   "source": [
    "import statsmodels.formula.api as smf\n",
    "\n",
    "model_data = pd.concat([stock_returns.dropna(), index_returns.dropna()], axis=1)\n",
    "model_data.columns = ['stock_r', 'index_r']"
   ]
  },
  {
   "cell_type": "code",
   "execution_count": null,
   "metadata": {},
   "outputs": [],
   "source": [
    "model_data"
   ]
  },
  {
   "cell_type": "code",
   "execution_count": null,
   "metadata": {},
   "outputs": [],
   "source": [
    "results = smf.ols('stock_r ~ index_r - 1', data=model_data).fit()"
   ]
  },
  {
   "cell_type": "code",
   "execution_count": null,
   "metadata": {},
   "outputs": [],
   "source": [
    "print(results.summary())"
   ]
  },
  {
   "cell_type": "code",
   "execution_count": null,
   "metadata": {},
   "outputs": [],
   "source": [
    "results = smf.ols('stock_r ~ index_r - 1', data=model_data).fit()"
   ]
  },
  {
   "cell_type": "code",
   "execution_count": null,
   "metadata": {},
   "outputs": [],
   "source": [
    "print(results.summary())"
   ]
  },
  {
   "cell_type": "markdown",
   "metadata": {},
   "source": [
    "### Interpreting Regression Results in the Context of Stock Betas\n",
    "\n",
    "What does all this mean?\n",
    "\n",
    "First, we can look out our coefficients, in the table above, or through ```results.params```"
   ]
  },
  {
   "cell_type": "code",
   "execution_count": null,
   "metadata": {},
   "outputs": [],
   "source": [
    "print(results.params)"
   ]
  },
  {
   "cell_type": "markdown",
   "metadata": {},
   "source": [
    "This is our beta $\\beta$:"
   ]
  },
  {
   "cell_type": "code",
   "execution_count": null,
   "metadata": {},
   "outputs": [],
   "source": [
    "results.params.index_r"
   ]
  },
  {
   "cell_type": "markdown",
   "metadata": {},
   "source": [
    "next let's look at R-squared. R-squared describes the \"explanatory\" power of the regression model. In terms of CAPM and beta, we can think of R-squared as describing the % of the stock's return that is explained by the \"market\". The rest (1 - Rsq) is considered to be \"idiosyncratic\" to the stock."
   ]
  },
  {
   "cell_type": "code",
   "execution_count": null,
   "metadata": {},
   "outputs": [],
   "source": [
    "# for our stock\n",
    "print(\"R-squared (market contribution to return): {:.2f}%\".format(results.rsquared * 100))\n",
    "print(\"Idiosyncratic return: {:.2f}%\".format((1-results.rsquared) * 100))"
   ]
  },
  {
   "cell_type": "markdown",
   "metadata": {},
   "source": [
    "### But how good is our fit?\n",
    "\n",
    "The OLS model is an *estimate* of the true model, and is therefore fit with some degree of error. How can we think about this? Let's take a look at some plots."
   ]
  },
  {
   "cell_type": "code",
   "execution_count": null,
   "metadata": {},
   "outputs": [],
   "source": [
    "from statsmodels.graphics.gofplots import qqplot\n",
    "import scipy.stats as stats\n",
    "\n",
    "# qqplot can show us the residuals vs \n",
    "fig, ax = plt.subplots(1, 1, figsize=(8, 6))\n",
    "qqplot(results.resid, fit=True, line=\"45\", ax=ax)\n",
    "plt.show()"
   ]
  },
  {
   "cell_type": "code",
   "execution_count": null,
   "metadata": {},
   "outputs": [],
   "source": [
    "# plot \n",
    "fig, ax = plt.subplots(1, 1, figsize=(8, 6))\n",
    "ax.scatter(index_returns, stock_returns, label=\"actual index vs stock returns\")\n",
    "ax.xlabel = \"S&P 500 return\"\n",
    "ax.ylabel = \"stock return\"\n",
    "#ax.plot(index_returns, results.params.index_r * index_returns + results.params.Intercept, \"r-\", label=\"fitted values\")\n",
    "plt.plot(index_returns.dropna(), results.fittedvalues, \"r-\", label=\"fitted\" )\n",
    "plt.legend()\n",
    "plt.show()"
   ]
  },
  {
   "cell_type": "markdown",
   "metadata": {},
   "source": [
    "### Actual and predicted values - distribution"
   ]
  },
  {
   "cell_type": "code",
   "execution_count": null,
   "metadata": {},
   "outputs": [],
   "source": [
    "from scipy.stats import norm\n",
    "\n",
    "mu = stock_returns.mean()\n",
    "std = stock_returns.std()\n",
    "\n",
    "fig, ax = plt.subplots(1, 1, figsize=(10, 5))\n",
    "\n",
    "# plot our data\n",
    "ax.hist(stock_returns, bins=20, density=True, alpha=0.6, color='blue', label=\"actual returns\")\n",
    "\n",
    "ax.hist(results.fittedvalues, bins=20, density=True, alpha=0.6, color='red', label=\"fitted returns\")\n",
    "\n",
    "# plot the PDF\n",
    "xmin, xmax = plt.xlim()\n",
    "x = np.linspace(xmin, xmax, 100)\n",
    "p = norm.pdf(x, mu, std)\n",
    "ax.plot(x, p, 'k', linewidth=2, label=\"normal dist given real $\\mu$ and $\\sigma$\")\n",
    "\n",
    "plt.title(\"{} Fit Results: $\\mu$ = {:.2f},  $\\sigma$ = {:.2f}\".format(stock_symbol, mu, std))\n",
    "plt.legend()\n",
    "plt.show()"
   ]
  },
  {
   "cell_type": "code",
   "execution_count": null,
   "metadata": {},
   "outputs": [],
   "source": []
  }
 ],
 "metadata": {
  "kernelspec": {
   "display_name": "Python 3",
   "language": "python",
   "name": "python3"
  },
  "language_info": {
   "codemirror_mode": {
    "name": "ipython",
    "version": 3
   },
   "file_extension": ".py",
   "mimetype": "text/x-python",
   "name": "python",
   "nbconvert_exporter": "python",
   "pygments_lexer": "ipython3",
   "version": "3.7.6"
  }
 },
 "nbformat": 4,
 "nbformat_minor": 4
}
